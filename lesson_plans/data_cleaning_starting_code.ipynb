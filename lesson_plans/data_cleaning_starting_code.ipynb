{
 "cells": [
  {
   "cell_type": "markdown",
   "id": "befe816c-c096-4ae8-aa01-7f7e9e31e54a",
   "metadata": {},
   "source": [
    "# Data Cleaning (Thank you Kyle Wilson for the lesson structure)\n",
    "\n",
    "Follow the cells in order to practice data cleaning and data imputation."
   ]
  },
  {
   "cell_type": "markdown",
   "id": "b6503932",
   "metadata": {},
   "source": [
    "We'll need a bunch of libraries. Seaborn has nice visualizations - more on that next week. The new one - sklearn.impute - is for one of the data imputation techniques at the end."
   ]
  },
  {
   "cell_type": "code",
   "execution_count": null,
   "id": "30f778a5-4be3-4338-aa4a-ede74a4ab1e9",
   "metadata": {},
   "outputs": [],
   "source": [
    "import pandas as pd\n",
    "import numpy as np\n",
    "import matplotlib.pyplot as plt\n",
    "import seaborn as sns\n",
    "from sklearn.impute import KNNImputer\n",
    "%matplotlib inline"
   ]
  },
  {
   "cell_type": "code",
   "execution_count": null,
   "id": "3819aa49-8455-427c-a435-c8a06a1330d3",
   "metadata": {},
   "outputs": [],
   "source": [
    "filename = 'calculus_pretest_data_2013_to_2022.csv'\n",
    "df = pd.read_csv(filename)"
   ]
  },
  {
   "cell_type": "markdown",
   "id": "da518e01-b14a-4a50-8939-2e1898e6bf46",
   "metadata": {},
   "source": [
    "### Question 1: Counting Null Values\n",
    "\n",
    "In the next cell, write code to count how many null values are in each column. (This can be a one-liner.)"
   ]
  },
  {
   "cell_type": "code",
   "execution_count": null,
   "id": "4f40fb10-f1b0-4591-b612-174af646d317",
   "metadata": {},
   "outputs": [],
   "source": []
  },
  {
   "cell_type": "markdown",
   "id": "9e490dad-29c9-47f6-8087-255dffa86c06",
   "metadata": {},
   "source": [
    "### Question 2: Visualizing Null Values\n",
    "\n",
    "In the next cell, write a plotting command that visualizes the locations of the null values in your dataframe. \n",
    "\n",
    "(Run a search to look for ways to do this? \n",
    "I used seaborn to plot a heatmap of df.isna(). The \"binary\" colormap made it look much tidier.)"
   ]
  },
  {
   "cell_type": "code",
   "execution_count": null,
   "id": "b75700e1-58a2-4040-88a8-19e89e8e6752",
   "metadata": {},
   "outputs": [],
   "source": []
  },
  {
   "cell_type": "markdown",
   "id": "fdfc23df-7904-4d29-9208-18874931eefa",
   "metadata": {},
   "source": [
    "### Question 3: Grades to GPAs\n",
    "\n",
    "Like on the midterm, we need to make \"Calc Grade\" a numerical column. I'll give you this dictionary. Add to the cell below to modify the \"Calc Grade\" column to become a numerical GPA column.\n",
    "\n",
    "Use the DataFrame.replace() function to make the change."
   ]
  },
  {
   "cell_type": "code",
   "execution_count": null,
   "id": "06d7747a-1d2e-46f6-8ea8-3a44d82d4d8b",
   "metadata": {},
   "outputs": [],
   "source": [
    "grade_to_gpa = {\n",
    "    'A+' : 4.00,\n",
    "    'A'  : 4.00,\n",
    "    'A-' : 3.67,\n",
    "    'B+' : 3.33,\n",
    "    'B'  : 3.00,\n",
    "    'B-' : 2.67,\n",
    "    'C+' : 2.33,\n",
    "    'C'  : 2.00,\n",
    "    'C-' : 1.67,\n",
    "    'D+' : 1.33,\n",
    "    'D'  : 1.00,\n",
    "    'D-' : 0.67,\n",
    "    'F'  : 0.00,\n",
    "    'P'  : 4.00,  # This is a fudge\n",
    "    'W'  : 0.00   # This is a fudge\n",
    "}\n",
    "# TODO: your code goes here.\n",
    "# Use \".replace() to convert the \"Calc Grade\" column\n",
    "# to a numeric column.\n",
    "\n"
   ]
  },
  {
   "cell_type": "markdown",
   "id": "e90ef3c9-609a-4036-9a31-f5eba92ab897",
   "metadata": {},
   "source": [
    "### Question 4: More numeric conversions\n",
    "\n",
    "Now convert the \"Student Year\" column to a [1,2,3,4] \n",
    "number. Use .replace() just like you did for the GPAs."
   ]
  },
  {
   "cell_type": "code",
   "execution_count": null,
   "id": "fed82dcf-4116-409d-987c-461789108b09",
   "metadata": {},
   "outputs": [],
   "source": []
  },
  {
   "cell_type": "markdown",
   "id": "c297f6ad-71c6-4475-b5ab-b1c8d175e1cb",
   "metadata": {},
   "source": [
    "### Question 5: Term Conversion\n",
    "\n",
    "Let's also convert the \"Course Term\" column to numeric.\n",
    "\n",
    "Regardless of how you did this on the exam, follow these\n",
    "instructions:\n",
    "\n",
    "Consider the function `term_to_num()` defined in the cell below.\n",
    "It takes one string as input and converts that string to a \n",
    "term number. \n",
    "\n",
    "Use `DataFrame.apply()` function with the `term_to_num()` function\n",
    "below to convert the \"Course Term\" column to numeric."
   ]
  },
  {
   "cell_type": "code",
   "execution_count": null,
   "id": "4f4223d6-3fd0-4b29-b887-82fd987adf4f",
   "metadata": {},
   "outputs": [],
   "source": [
    "def term_to_num(x):\n",
    "    tokens = x.split('/')\n",
    "    if len(tokens) != 2: \n",
    "        return None\n",
    "    else:\n",
    "        year = int(tokens[0]) + 2000\n",
    "        season = tokens[1]\n",
    "        if season == 'SP':\n",
    "            return year\n",
    "        else:\n",
    "            return year + 0.5\n",
    "\n",
    "# TODO: use the pandas .apply() function, along with\n",
    "# this term_to_num() function to convert the \n",
    "# \"Course Term\" column to numeric.\n",
    "\n"
   ]
  },
  {
   "cell_type": "markdown",
   "id": "5c57a0cb-732f-4924-9648-41ec5e4cae7d",
   "metadata": {},
   "source": [
    "### Checkpoint:\n",
    "\n",
    "Does the output of `df.head()` below look right? Have you successfully converted all three columns (Course Term, Student Year, and Calc Grade) to numeric values?"
   ]
  },
  {
   "cell_type": "code",
   "execution_count": null,
   "id": "0c6125f9-29f8-4ed9-b73e-f053b37ecda6",
   "metadata": {},
   "outputs": [],
   "source": [
    "df.head()"
   ]
  },
  {
   "cell_type": "markdown",
   "id": "1209172d-4229-4c93-a028-7ba8320fa67d",
   "metadata": {},
   "source": [
    "### Question 6: Imputing the missing values\n",
    "\n",
    "The rest of this lab will be dealing with the missing values in four different ways. First we'll fill in the missing data. Then we'll see what our choices resulted in on some down-stream calculations.\n",
    "\n",
    "**From this point on, don't make any changes to df.**"
   ]
  },
  {
   "cell_type": "markdown",
   "id": "152070c1-aa3f-40e4-9fc3-c7c7d5faada3",
   "metadata": {},
   "source": [
    "### Method 1: Dropping\n",
    "\n",
    "Without modifying `df`, create a new dataframe called \n",
    "`df_drop`, that drops all of the rows of `df` that contain\n",
    "at least one missing value."
   ]
  },
  {
   "cell_type": "code",
   "execution_count": null,
   "id": "0c6936c5-0ebd-4767-81a4-c00c6af73ab4",
   "metadata": {},
   "outputs": [],
   "source": [
    "### TODO: create df_drop\n",
    "df_drop = ...\n",
    "\n",
    "print(f'df_drop contains {len(df_drop)} rows.')"
   ]
  },
  {
   "cell_type": "markdown",
   "id": "1d3953d8-d976-4e26-a78b-34c1970cfc4c",
   "metadata": {},
   "source": [
    "### Method 2: Zeros\n",
    "\n",
    "Without modifying `df`, create a new dataframe called `df_zero` where every missing value is replaced with a zero."
   ]
  },
  {
   "cell_type": "code",
   "execution_count": null,
   "id": "0c6540d5-eb2b-4780-bc62-8e9834609dac",
   "metadata": {},
   "outputs": [],
   "source": [
    "### TODO: create df_zero\n",
    "df_zero = ...\n",
    "\n",
    "print(f'df_zero contains {len(df_zero)} rows.')"
   ]
  },
  {
   "cell_type": "markdown",
   "id": "3e01c850-81a5-454b-86b1-99eace05d932",
   "metadata": {},
   "source": [
    "### Method 3: Averages\n",
    "\n",
    "Without modifying `df`, create a new dataframe called `df_avg` where every missing value is replaced with the average for it's column."
   ]
  },
  {
   "cell_type": "code",
   "execution_count": null,
   "id": "5a2da1ff-c910-4d9d-87eb-ce17b861a2af",
   "metadata": {},
   "outputs": [],
   "source": [
    "### TODO: create df_avg\n",
    "df_avg = ...\n",
    "\n",
    "print(f'df_avg contains {len(df_avg)} rows.')"
   ]
  },
  {
   "cell_type": "markdown",
   "id": "79d77de0-3448-4851-812f-ab56dc111c7a",
   "metadata": {},
   "source": [
    "### Method 4: Nearest Neighbors\n",
    "\n",
    "Without modifying df, create a new dataframe called \n",
    "`df_impute` where every missing value is replaced with \n",
    "The result of a nearest neighbors lookup.\n",
    "\n",
    "Let's use a class called `KNNImputer` from the library \n",
    "`scikit-learn`. There are several steps. Here's the syntax. You'll\n",
    "need to find the right variable names yourself.\n",
    "\n",
    "- You'll need to import the function with \n",
    "`from sklearn.impute import KNNImputer`.\n",
    "- Next set up the options with `imputer = KNNImputer(n_neighbors=2, weights=\"uniform\")`\n",
    "- Now show the dataset to the imputation algorithm: `imputer.fit_transform(X)`\n",
    "- Finally, fill in the missing values with `X_new = imputer.transform(X_old)`\n",
    "\n",
    "\n"
   ]
  },
  {
   "cell_type": "code",
   "execution_count": null,
   "id": "fcb8d57e-884a-4ed7-a766-7c6401d87f4d",
   "metadata": {},
   "outputs": [],
   "source": [
    "### TODO: make df_impute\n",
    "df_impute = ...\n",
    "\n",
    "print(f'df_avg contains {len(df_avg)} rows.')"
   ]
  },
  {
   "cell_type": "markdown",
   "id": "ecdab06e-36b8-47a3-afae-b5f93d68e7da",
   "metadata": {},
   "source": [
    "### Question 7: Comparisons\n",
    "\n",
    "We're going to compare `df_drop`, `df_zero`, `df_avg`, and `df_impute` in three ways:\n",
    "1. Print their averages across the `Algebra Pretest` and `PreCalc Pretest` columns\n",
    "1. Compute best fit lines for `PreCalc Pretest` vs `Calc Grade`\n",
    "1. Make scatterplots of `PreCalc Pretest` vs `Calc Grade`"
   ]
  },
  {
   "cell_type": "markdown",
   "id": "9adc7264-00b4-439d-9ee6-51b3d3e7ecf7",
   "metadata": {},
   "source": [
    "### Comparison 1: Averages\n",
    "\n",
    "Print the averages of the `Algebra Pretest` and \n",
    "`PreCalc Pretest` columns for each of our four\n",
    "missing data strategies."
   ]
  },
  {
   "cell_type": "code",
   "execution_count": null,
   "id": "1b3b5282-4b84-492e-b713-478371d5b40b",
   "metadata": {},
   "outputs": [],
   "source": [
    "# TODO: compute 2*4 averages here\n",
    "\n"
   ]
  },
  {
   "cell_type": "markdown",
   "id": "92ec2d0c-8241-4bd4-9588-9a26edad56bc",
   "metadata": {},
   "source": [
    "### Comparison 2: Best Fit Lines\n",
    "\n",
    "Compute the slope and intercept of the best fit lines for \n",
    "each our our four missing data strategies. \n",
    "\n",
    "We'll use `numpy`'s `polyfit` function to compute best fit lines.\n",
    "\n",
    "`slope, intercept = np.polyfit(x, y, 1)`"
   ]
  },
  {
   "cell_type": "code",
   "execution_count": 5,
   "id": "e4fb3163-e7d8-4856-bd1a-071e48ad460c",
   "metadata": {},
   "outputs": [],
   "source": [
    "# TODO: compute and print the best fit lines for each df\n",
    "\n"
   ]
  },
  {
   "cell_type": "markdown",
   "id": "cd95cb44-d380-4895-b5bf-c3d43a166a08",
   "metadata": {},
   "source": [
    "### Comparison 3: Plotting\n",
    "\n",
    "Plot four scatterplots of `PreCalc Pretest` vs `Calc Grade` - one for each of the four missing data strategies. \n",
    "\n",
    "I recommend using `seaborn.regplot` because it will also draw a pretty best-fit line. Use subplots and share the x and y axes so that we can make a good visual comparison."
   ]
  },
  {
   "cell_type": "code",
   "execution_count": null,
   "id": "2b6d1a84-f1d0-422b-b574-895e292f20a7",
   "metadata": {},
   "outputs": [],
   "source": [
    "# TODO: draw four plots here\n",
    "\n"
   ]
  },
  {
   "cell_type": "markdown",
   "id": "fd6d2a29-2fdd-40d4-b121-03743b141bf7",
   "metadata": {},
   "source": [
    "### Concluding thoughts:\n",
    "\n",
    "Which method worked best? \n",
    "\n",
    "Does it feel weird to make up data?"
   ]
  }
 ],
 "metadata": {
  "kernelspec": {
   "display_name": "Python 3 (ipykernel)",
   "language": "python",
   "name": "python3"
  },
  "language_info": {
   "codemirror_mode": {
    "name": "ipython",
    "version": 3
   },
   "file_extension": ".py",
   "mimetype": "text/x-python",
   "name": "python",
   "nbconvert_exporter": "python",
   "pygments_lexer": "ipython3",
   "version": "3.9.14"
  }
 },
 "nbformat": 4,
 "nbformat_minor": 5
}
